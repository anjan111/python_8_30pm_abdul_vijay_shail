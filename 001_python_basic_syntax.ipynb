{
 "cells": [
  {
   "cell_type": "markdown",
   "metadata": {},
   "source": [
    "--->> Syntax\n",
    "\n",
    "--->> Program\n",
    "\n",
    "--->> Instruction\n",
    "\n",
    "--->> Comments\n",
    "\n",
    "--->> Statements\n",
    "\n",
    "--->> Keywords\n",
    "\n",
    "--->> Identifier\n",
    "\n",
    "--->> Variable\n",
    "\n",
    "--->> Datatypes"
   ]
  },
  {
   "cell_type": "code",
   "execution_count": 1,
   "metadata": {},
   "outputs": [
    {
     "name": "stdout",
     "output_type": "stream",
     "text": [
      "hello\n",
      "hai\n",
      "bye\n"
     ]
    }
   ],
   "source": [
    "print \"hello\"\n",
    "print \"hai\"\n",
    "print \"bye\""
   ]
  },
  {
   "cell_type": "markdown",
   "metadata": {},
   "source": [
    "####  Syntax\n",
    "\n",
    "--->>> The structure for writing a program\n",
    "\n",
    "#### Program\n",
    "\n",
    "--->> Set of instructions to do any one specific task\n",
    "\n",
    "#### Instruction\n",
    "\n",
    "--->> A line of code with in the program\n",
    "\n",
    "---->> There are 2 typesof instructions\n",
    "\n",
    "1. Comments ---->> An instruction which can't be executable \n",
    "\n",
    "2. Statement --->> An instruction which can be executbale"
   ]
  },
  {
   "cell_type": "code",
   "execution_count": 1,
   "metadata": {},
   "outputs": [
    {
     "name": "stdout",
     "output_type": "stream",
     "text": [
      "hello\n",
      "hai\n",
      "bye\n"
     ]
    }
   ],
   "source": [
    "############### Single line comment\n",
    "# single line comment\n",
    "'''\n",
    "this is\n",
    "multiline\n",
    "comment\n",
    "'''\n",
    "print \"hello\"# statement\n",
    "print\"hai\"\n",
    "print \"bye\""
   ]
  },
  {
   "cell_type": "code",
   "execution_count": 2,
   "metadata": {},
   "outputs": [
    {
     "name": "stdout",
     "output_type": "stream",
     "text": [
      "['and', 'as', 'assert', 'break', 'class', 'continue', 'def', 'del', 'elif', 'else', 'except', 'exec', 'finally', 'for', 'from', 'global', 'if', 'import', 'in', 'is', 'lambda', 'not', 'or', 'pass', 'print', 'raise', 'return', 'try', 'while', 'with', 'yield']\n"
     ]
    }
   ],
   "source": [
    "# keywords\n",
    "'''\n",
    "-->> pre defined words\n",
    "-->> each and every keyword which can do its specific task\n",
    "'''\n",
    "import keyword\n",
    "print keyword.kwlist"
   ]
  },
  {
   "cell_type": "code",
   "execution_count": 3,
   "metadata": {},
   "outputs": [
    {
     "name": "stdout",
     "output_type": "stream",
     "text": [
      "data in var :  123\n"
     ]
    }
   ],
   "source": [
    "# identifier\n",
    "'''\n",
    "-->> user defined words\n",
    "-->> To give the names for variables, functions,class\n",
    "'''\n",
    "#Rules\n",
    "'''\n",
    "--->> we can use alphabets     a-z/A-Z\n",
    "--->> we can use the digits   0-9\n",
    "--->> we can use underscore  _\n",
    "--->> don't start with digit\n",
    "--->> don't use special character !@#$%^&*^()\n",
    "--->> don't use keywords \n",
    "'''\n",
    "#variable\n",
    "'''\n",
    "-->> which is identifier , we can hold the data\n",
    "-->> python we don't need declare any variable\n",
    "-->> we can directly assign the data\n",
    "'''\n",
    "var =123\n",
    "print \"data in var : \", var"
   ]
  },
  {
   "cell_type": "code",
   "execution_count": 4,
   "metadata": {},
   "outputs": [
    {
     "name": "stdout",
     "output_type": "stream",
     "text": [
      "45\n"
     ]
    }
   ],
   "source": [
    "vaR2_ =45\n",
    "print vaR2_"
   ]
  },
  {
   "cell_type": "code",
   "execution_count": 5,
   "metadata": {},
   "outputs": [
    {
     "ename": "SyntaxError",
     "evalue": "invalid syntax (<ipython-input-5-91874f50122c>, line 1)",
     "output_type": "error",
     "traceback": [
      "\u001b[1;36m  File \u001b[1;32m\"<ipython-input-5-91874f50122c>\"\u001b[1;36m, line \u001b[1;32m1\u001b[0m\n\u001b[1;33m    3var =345\u001b[0m\n\u001b[1;37m       ^\u001b[0m\n\u001b[1;31mSyntaxError\u001b[0m\u001b[1;31m:\u001b[0m invalid syntax\n"
     ]
    }
   ],
   "source": [
    "3var =345"
   ]
  },
  {
   "cell_type": "code",
   "execution_count": 6,
   "metadata": {},
   "outputs": [
    {
     "ename": "SyntaxError",
     "evalue": "invalid syntax (<ipython-input-6-3d35f5eb838a>, line 1)",
     "output_type": "error",
     "traceback": [
      "\u001b[1;36m  File \u001b[1;32m\"<ipython-input-6-3d35f5eb838a>\"\u001b[1;36m, line \u001b[1;32m1\u001b[0m\n\u001b[1;33m    v@r = 45\u001b[0m\n\u001b[1;37m     ^\u001b[0m\n\u001b[1;31mSyntaxError\u001b[0m\u001b[1;31m:\u001b[0m invalid syntax\n"
     ]
    }
   ],
   "source": [
    "v@r = 45"
   ]
  },
  {
   "cell_type": "code",
   "execution_count": 7,
   "metadata": {},
   "outputs": [
    {
     "ename": "SyntaxError",
     "evalue": "invalid syntax (<ipython-input-7-216ac7a62da3>, line 1)",
     "output_type": "error",
     "traceback": [
      "\u001b[1;36m  File \u001b[1;32m\"<ipython-input-7-216ac7a62da3>\"\u001b[1;36m, line \u001b[1;32m1\u001b[0m\n\u001b[1;33m    while =34\u001b[0m\n\u001b[1;37m          ^\u001b[0m\n\u001b[1;31mSyntaxError\u001b[0m\u001b[1;31m:\u001b[0m invalid syntax\n"
     ]
    }
   ],
   "source": [
    "while=34\n",
    "print while"
   ]
  },
  {
   "cell_type": "code",
   "execution_count": 8,
   "metadata": {},
   "outputs": [
    {
     "name": "stdout",
     "output_type": "stream",
     "text": [
      "34\n"
     ]
    }
   ],
   "source": [
    "While = 34\n",
    "print While"
   ]
  },
  {
   "cell_type": "code",
   "execution_count": 1,
   "metadata": {},
   "outputs": [
    {
     "name": "stdout",
     "output_type": "stream",
     "text": [
      "data :  12\n",
      "<type 'int'>\n",
      "data :  -134\n",
      "<type 'int'>\n",
      "data :  0\n",
      "<type 'int'>\n"
     ]
    }
   ],
   "source": [
    "# datatypes\n",
    "'''\n",
    "-->> variables are holding the data\n",
    "-->> Datatypes are used for to specify the what type data holded by variables\n",
    "--->> There are 2 types \n",
    "'''\n",
    "# Fundamental Datatype\n",
    "'''\n",
    "--->>>  Single variable can hold only single data element \n",
    "1. int\n",
    "2. float\n",
    "3. complex\n",
    "4. bool\n",
    "5. Nonetype\n",
    "\n",
    "syntax :\n",
    "\n",
    "var = data\n",
    "\n",
    "-->>> type(var) ---->>> to know the datatype of variable\n",
    "'''\n",
    "var =12\n",
    "print \"data : \",var\n",
    "print type(var)\n",
    "var =-134\n",
    "print \"data : \",var\n",
    "print type(var)\n",
    "var =0\n",
    "print \"data : \",var\n",
    "print type(var)"
   ]
  },
  {
   "cell_type": "code",
   "execution_count": 2,
   "metadata": {},
   "outputs": [
    {
     "name": "stdout",
     "output_type": "stream",
     "text": [
      "data :  12.0\n",
      "<type 'float'>\n",
      "data :  -13.64\n",
      "<type 'float'>\n",
      "data :  0.0\n",
      "<type 'float'>\n"
     ]
    }
   ],
   "source": [
    "var =12.0000\n",
    "print \"data : \",var\n",
    "print type(var)\n",
    "var =-13.64\n",
    "print \"data : \",var\n",
    "print type(var)\n",
    "var =0.0\n",
    "print \"data : \",var\n",
    "print type(var)"
   ]
  },
  {
   "cell_type": "code",
   "execution_count": 3,
   "metadata": {},
   "outputs": [
    {
     "name": "stdout",
     "output_type": "stream",
     "text": [
      "data :  (12+3.5j)\n",
      "<type 'complex'>\n",
      "data :  (-13.4+4j)\n",
      "<type 'complex'>\n",
      "data :  0j\n",
      "<type 'complex'>\n"
     ]
    }
   ],
   "source": [
    "# complex  --->> real + img  --->  x + yj\n",
    "var =12 +3.5j\n",
    "print \"data : \",var\n",
    "print type(var)\n",
    "var =-13.4 + 4j\n",
    "print \"data : \",var\n",
    "print type(var)\n",
    "var =0+0j\n",
    "print \"data : \",var\n",
    "print type(var)"
   ]
  },
  {
   "cell_type": "code",
   "execution_count": 4,
   "metadata": {},
   "outputs": [
    {
     "name": "stdout",
     "output_type": "stream",
     "text": [
      "data :  False\n",
      "<type 'bool'>\n",
      "data :  True\n",
      "<type 'bool'>\n"
     ]
    }
   ],
   "source": [
    "var =False\n",
    "print \"data : \",var\n",
    "print type(var)\n",
    "var =True\n",
    "print \"data : \",var\n",
    "print type(var)\n"
   ]
  },
  {
   "cell_type": "code",
   "execution_count": 5,
   "metadata": {},
   "outputs": [
    {
     "name": "stdout",
     "output_type": "stream",
     "text": [
      "data :  None\n",
      "<type 'NoneType'>\n"
     ]
    }
   ],
   "source": [
    "var =None # NULL like other PL # we don't have data with in memory\n",
    "print \"data : \",var\n",
    "print type(var)\n"
   ]
  },
  {
   "cell_type": "code",
   "execution_count": 7,
   "metadata": {},
   "outputs": [
    {
     "name": "stdout",
     "output_type": "stream",
     "text": [
      "var :  123\n",
      "<type 'str'>\n",
      "var :  2H%^\n",
      "<type 'str'>\n",
      "var :  \n",
      "<type 'str'>\n"
     ]
    }
   ],
   "source": [
    "# sequencial datatype\n",
    "'''\n",
    "A single variable can hold multiple elements\n",
    "\n",
    "1. str--->> collection of characters with in \"\"\n",
    "2. list-->> collection of  data elements with in []\n",
    "3. tuple-->> collection of  data elements with in ()\n",
    "4. set  -->> collection of  data elements with in {}\n",
    "5. dict -->> collection of  data items with in {}\n",
    "'''\n",
    "var = \"123\" # str\n",
    "print \"var : \",var\n",
    "print type(var)\n",
    "var = \"2H%^\"\n",
    "print \"var : \",var\n",
    "print type(var)\n",
    "var = \"\"\n",
    "print \"var : \",var\n",
    "print type(var)"
   ]
  },
  {
   "cell_type": "code",
   "execution_count": 8,
   "metadata": {},
   "outputs": [
    {
     "name": "stdout",
     "output_type": "stream",
     "text": [
      "var :  [12, 2.3, (4+5j), None, True, '23', [1, 2]]\n",
      "<type 'list'>\n"
     ]
    }
   ],
   "source": [
    "var = [12,2.3,4+5j,None,True,\"23\",[1,2]]\n",
    "print \"var : \",var\n",
    "print type(var)"
   ]
  },
  {
   "cell_type": "code",
   "execution_count": 9,
   "metadata": {},
   "outputs": [
    {
     "name": "stdout",
     "output_type": "stream",
     "text": [
      "var :  (12, 2.3, (4+5j), None, True, '23', [1, 2], (1, 2))\n",
      "<type 'tuple'>\n"
     ]
    }
   ],
   "source": [
    "var = (12,2.3,4+5j,None,True,\"23\",[1,2],(1,2))\n",
    "print \"var : \",var\n",
    "print type(var)"
   ]
  },
  {
   "cell_type": "code",
   "execution_count": 11,
   "metadata": {},
   "outputs": [
    {
     "name": "stdout",
     "output_type": "stream",
     "text": [
      "var :  set([True, '23', None, 12, (4+5j), 2.3])\n",
      "<type 'set'>\n"
     ]
    }
   ],
   "source": [
    "var = {12,2.3,4+5j,None,True,\"23\"}\n",
    "print \"var : \",var\n",
    "print type(var)"
   ]
  },
  {
   "cell_type": "code",
   "execution_count": 12,
   "metadata": {},
   "outputs": [
    {
     "name": "stdout",
     "output_type": "stream",
     "text": [
      "var :  {True: '23', (4+5j): None, 12: 2.3}\n",
      "<type 'dict'>\n"
     ]
    }
   ],
   "source": [
    "var = {12 : 2.3   ,4+5j : None,True : \"23\"}  # key : value ---> item\n",
    "print \"var : \",var\n",
    "print type(var)"
   ]
  },
  {
   "cell_type": "code",
   "execution_count": null,
   "metadata": {},
   "outputs": [],
   "source": []
  }
 ],
 "metadata": {
  "kernelspec": {
   "display_name": "Python 2",
   "language": "python",
   "name": "python2"
  },
  "language_info": {
   "codemirror_mode": {
    "name": "ipython",
    "version": 2
   },
   "file_extension": ".py",
   "mimetype": "text/x-python",
   "name": "python",
   "nbconvert_exporter": "python",
   "pygments_lexer": "ipython2",
   "version": "2.7.16"
  }
 },
 "nbformat": 4,
 "nbformat_minor": 2
}
