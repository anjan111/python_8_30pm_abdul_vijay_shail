{
 "cells": [
  {
   "cell_type": "code",
   "execution_count": 1,
   "metadata": {},
   "outputs": [
    {
     "name": "stdout",
     "output_type": "stream",
     "text": [
      "enter int : 789\n",
      "data :  789\n",
      "<type 'int'>\n",
      "memory :  74792888\n"
     ]
    }
   ],
   "source": [
    "# input() --->> read the data from keyboard\n",
    "# print   --->> display the data\n",
    "# type()  --->> to know datatype\n",
    "# id() ------>> to know memory loc\n",
    "\n",
    "'''\n",
    "WAP ( write a program) read int then print data, datatype, memory\n",
    "'''\n",
    "var = input(\"enter int : \")\n",
    "print\"data : \",var\n",
    "print type(var)\n",
    "print \"memory : \",id(var)"
   ]
  },
  {
   "cell_type": "code",
   "execution_count": 2,
   "metadata": {},
   "outputs": [
    {
     "name": "stdout",
     "output_type": "stream",
     "text": [
      "enter float : 78.653\n",
      "data :  78.653\n",
      "<type 'float'>\n",
      "memory :  74802536\n"
     ]
    }
   ],
   "source": [
    "'''\n",
    "WAP ( write a program) read float then print data, datatype, memory\n",
    "'''\n",
    "var = input(\"enter float : \")\n",
    "print\"data : \",var\n",
    "print type(var)\n",
    "print \"memory : \",id(var)"
   ]
  },
  {
   "cell_type": "code",
   "execution_count": null,
   "metadata": {},
   "outputs": [],
   "source": [
    "# write 8 programs for each program enter new datatype, print data, memory, datatype"
   ]
  },
  {
   "cell_type": "code",
   "execution_count": 3,
   "metadata": {},
   "outputs": [
    {
     "name": "stdout",
     "output_type": "stream",
     "text": [
      "enter int : 789\n",
      "data :  789\n",
      "<type 'str'>\n",
      "memory :  82161256\n"
     ]
    }
   ],
   "source": [
    "# raw_input() --->> read the data from keyboard\n",
    "# print   --->> display the data\n",
    "# type()  --->> to know datatype\n",
    "# id() ------>> to know memory loc\n",
    "\n",
    "'''\n",
    "WAP ( write a program) read int then print data, datatype, memory\n",
    "'''\n",
    "var = raw_input(\"enter int : \")\n",
    "print\"data : \",var\n",
    "print type(var)\n",
    "print \"memory : \",id(var)"
   ]
  },
  {
   "cell_type": "code",
   "execution_count": 4,
   "metadata": {},
   "outputs": [
    {
     "name": "stdout",
     "output_type": "stream",
     "text": [
      "enter float : 78.5454\n",
      "data :  78.5454\n",
      "<type 'str'>\n",
      "memory :  82161376\n"
     ]
    }
   ],
   "source": [
    "'''\n",
    "WAP ( write a program) read float then print data, datatype, memory\n",
    "'''\n",
    "var = raw_input(\"enter float : \")\n",
    "print\"data : \",var\n",
    "print type(var)\n",
    "print \"memory : \",id(var)"
   ]
  },
  {
   "cell_type": "code",
   "execution_count": null,
   "metadata": {},
   "outputs": [],
   "source": [
    "# write 8 programs for each program enter new datatype, print data, memory, datatype"
   ]
  }
 ],
 "metadata": {
  "kernelspec": {
   "display_name": "Python 2",
   "language": "python",
   "name": "python2"
  },
  "language_info": {
   "codemirror_mode": {
    "name": "ipython",
    "version": 2
   },
   "file_extension": ".py",
   "mimetype": "text/x-python",
   "name": "python",
   "nbconvert_exporter": "python",
   "pygments_lexer": "ipython2",
   "version": "2.7.16"
  }
 },
 "nbformat": 4,
 "nbformat_minor": 2
}
